{
 "cells": [
  {
   "cell_type": "code",
   "execution_count": 2,
   "id": "ff445849",
   "metadata": {},
   "outputs": [],
   "source": [
    "import h5py\n",
    "import dotenv\n",
    "import numpy as np\n",
    "import os\n",
    "import glob\n",
    "from matplotlib import pyplot as plt\n",
    "import fastmri\n",
    "import fastmri.data.transforms as T\n",
    "import fastmri.data\n",
    "import fastmri.data.subsample\n",
    "from fastmri.evaluate import ssim, psnr\n",
    "import torch\n",
    "import cv2"
   ]
  },
  {
   "cell_type": "code",
   "execution_count": 3,
   "id": "a64053d7",
   "metadata": {},
   "outputs": [
    {
     "name": "stdout",
     "output_type": "stream",
     "text": [
      "SINGLECOIL_TRAIN_PATH: /home/alek/ml_data/knee_singlecoil_val/singlecoil_train\n",
      "SINGLECOIL_VAL_PATH: /home/alek/ml_data/knee_singlecoil_val/singlecoil_val\n"
     ]
    }
   ],
   "source": [
    "dotenv.load_dotenv()\n",
    "\n",
    "SINGLECOIL_TRAIN_PATH = os.environ.get('SINGLECOIL_TRAIN_PATH')\n",
    "SINGLECOIL_VAL_PATH = os.environ.get('SINGLECOIL_VAL_PATH')\n",
    "\n",
    "print(f'SINGLECOIL_TRAIN_PATH: {SINGLECOIL_TRAIN_PATH}')\n",
    "print(f'SINGLECOIL_VAL_PATH: {SINGLECOIL_VAL_PATH}')\n"
   ]
  },
  {
   "cell_type": "code",
   "execution_count": 4,
   "id": "42b7fa91",
   "metadata": {},
   "outputs": [],
   "source": [
    "train_files = glob.glob(os.path.join(SINGLECOIL_TRAIN_PATH, '*.h5'))\n",
    "\n",
    "# file_name = 'multicoil_train/file1000167.h5'\n",
    "# file_name = '/Users/rohitkapoor/Downloads/singlecoil_train/file1002073.h5'\n",
    "file_name = train_files[0]\n",
    "hf = h5py.File(file_name)"
   ]
  },
  {
   "cell_type": "code",
   "execution_count": 12,
   "id": "3db06083",
   "metadata": {},
   "outputs": [
    {
     "name": "stdout",
     "output_type": "stream",
     "text": [
      "torch.float32\n",
      "torch.Size([33, 640, 372, 2])\n"
     ]
    }
   ],
   "source": [
    "kspace = hf['kspace'][()]\n",
    "kspace = T.to_tensor(kspace)\n",
    "print(kspace.dtype)\n",
    "print(kspace.shape)\n",
    "sample_idx = kspace.shape[0] // 2"
   ]
  },
  {
   "cell_type": "code",
   "execution_count": 13,
   "id": "b53899f7",
   "metadata": {},
   "outputs": [],
   "source": [
    "center_fraction = 0.04\n",
    "accelerations = 8\n",
    "\n",
    "W=320\n",
    "H=320"
   ]
  },
  {
   "cell_type": "code",
   "execution_count": 14,
   "id": "ff77e9ae",
   "metadata": {},
   "outputs": [
    {
     "data": {
      "text/plain": [
       "torch.Size([33, 320, 320])"
      ]
     },
     "execution_count": 14,
     "metadata": {},
     "output_type": "execute_result"
    }
   ],
   "source": [
    "kspace = T.complex_center_crop(kspace, (W, H))\n",
    "kspace_abs = fastmri.complex_abs(kspace)\n",
    "kspace_abs.shape"
   ]
  },
  {
   "cell_type": "code",
   "execution_count": 15,
   "id": "1e567ffa",
   "metadata": {},
   "outputs": [
    {
     "data": {
      "image/png": "[encoded data removed]",
      "text/plain": [
       "<Figure size 100x100 with 1 Axes>"
      ]
     },
     "metadata": {},
     "output_type": "display_data"
    }
   ],
   "source": [
    "figsize=(1,1)\n",
    "plt.figure(figsize=figsize)\n",
    "plt.gca().set_axis_off()\n",
    "plt.imshow(torch.pow(kspace_abs[sample_idx],0.25), cmap='gray')\n",
    "plt.margins(0,0)\n",
    "# plt.savefig('images/img1.png', bbox_inches='tight', dpi=300)\n",
    "plt.show()"
   ]
  },
  {
   "cell_type": "code",
   "execution_count": 16,
   "id": "8e55c332",
   "metadata": {},
   "outputs": [],
   "source": [
    "img = fastmri.ifft2c(kspace)\n",
    "img_abs = fastmri.complex_abs(img)"
   ]
  },
  {
   "cell_type": "code",
   "execution_count": 17,
   "id": "0d20269d",
   "metadata": {},
   "outputs": [
    {
     "data": {
      "image/png": "[encoded data removed]",
      "text/plain": [
       "<Figure size 100x100 with 1 Axes>"
      ]
     },
     "metadata": {},
     "output_type": "display_data"
    }
   ],
   "source": [
    "plt.figure(figsize=figsize)\n",
    "plt.gca().set_axis_off()\n",
    "plt.imshow(img_abs[sample_idx], cmap='gray')\n",
    "# plt.savefig('images/img1.png', bbox_inches='tight', dpi=300)\n",
    "plt.show()"
   ]
  },
  {
   "cell_type": "code",
   "execution_count": 20,
   "id": "708c0f7a",
   "metadata": {},
   "outputs": [
    {
     "data": {
      "text/plain": [
       "True"
      ]
     },
     "execution_count": 20,
     "metadata": {},
     "output_type": "execute_result"
    }
   ],
   "source": [
    "\n",
    "\n",
    "kspace_img = torch.pow(kspace_abs[sample_idx], 0.25)\n",
    "kspace_img = (kspace_img / kspace_img.max() * 255).byte().cpu().numpy()      # 0‒255 uint8\n",
    "kspace_img_colored = cv2.applyColorMap(kspace_img, cv2.COLORMAP_HOT)      # adds colormap\n",
    "cv2.imwrite('images/knee_kspace.png', kspace_img_colored)\n",
    "\n",
    "img_cv2 = (img_abs[sample_idx] / img_abs[sample_idx].max() * 255).byte().cpu().numpy()\n",
    "cv2.imwrite('images/knee_img.png', img_cv2)"
   ]
  },
  {
   "cell_type": "code",
   "execution_count": 21,
   "id": "8ef1fc4e",
   "metadata": {},
   "outputs": [],
   "source": [
    "mask_func = fastmri.data.subsample.RandomMaskFunc(center_fractions=[center_fraction], accelerations=[accelerations])\n",
    "masked_kspace, mask, _ = T.apply_mask(kspace, mask_func)"
   ]
  },
  {
   "cell_type": "code",
   "execution_count": 23,
   "id": "94c718b7",
   "metadata": {},
   "outputs": [
    {
     "data": {
      "image/png": "[encoded data removed]",
      "text/plain": [
       "<Figure size 100x100 with 1 Axes>"
      ]
     },
     "metadata": {},
     "output_type": "display_data"
    }
   ],
   "source": [
    "masked_kspace_abs = fastmri.complex_abs(masked_kspace)\n",
    "plt.figure(figsize=figsize)\n",
    "plt.gca().set_axis_off()\n",
    "plt.imshow(torch.pow(masked_kspace_abs[sample_idx],0.25), cmap='hot')\n",
    "plt.show()"
   ]
  },
  {
   "cell_type": "code",
   "execution_count": 24,
   "id": "9795dcab",
   "metadata": {},
   "outputs": [
    {
     "data": {
      "image/png": "[encoded data removed]",
      "text/plain": [
       "<Figure size 100x100 with 1 Axes>"
      ]
     },
     "metadata": {},
     "output_type": "display_data"
    }
   ],
   "source": [
    "recon_img = fastmri.ifft2c(masked_kspace)\n",
    "recon_img_abs = fastmri.complex_abs(recon_img)\n",
    "plt.figure(figsize=figsize)\n",
    "plt.gca().set_axis_off()\n",
    "plt.imshow(recon_img_abs[sample_idx], cmap='gray')\n",
    "plt.show()"
   ]
  },
  {
   "cell_type": "code",
   "execution_count": 25,
   "id": "bd99391a",
   "metadata": {},
   "outputs": [
    {
     "data": {
      "text/plain": [
       "True"
      ]
     },
     "execution_count": 25,
     "metadata": {},
     "output_type": "execute_result"
    }
   ],
   "source": [
    "masked_kspace_img = torch.pow(masked_kspace_abs[sample_idx], 0.25)\n",
    "masked_kspace_img = (masked_kspace_img / masked_kspace_img.max() * 255).byte().cpu().numpy()      # 0‒255 uint8\n",
    "masked_kspace_img_colored = cv2.applyColorMap(masked_kspace_img, cv2.COLORMAP_HOT)      # adds colormap\n",
    "cv2.imwrite('images/knee_masked_kspace.png', masked_kspace_img_colored)\n",
    "\n",
    "recon_img_cv2 = (recon_img_abs[sample_idx] / recon_img_abs[sample_idx].max() * 255).byte().cpu().numpy()\n",
    "cv2.imwrite('images/knee_recon_img.png', recon_img_cv2)"
   ]
  },
  {
   "cell_type": "code",
   "execution_count": 26,
   "id": "d8c816cc",
   "metadata": {},
   "outputs": [
    {
     "data": {
      "image/png": "[encoded data removed]",
      "text/plain": [
       "<Figure size 100x100 with 1 Axes>"
      ]
     },
     "metadata": {},
     "output_type": "display_data"
    }
   ],
   "source": [
    "plt.figure(figsize=figsize)\n",
    "plt.gca().set_axis_off()\n",
    "plt.imshow(mask.repeat(1,320,1,1).squeeze(), cmap='gray') # mask is (1,1,W,1) -> \n",
    "plt.show()"
   ]
  },
  {
   "cell_type": "code",
   "execution_count": 27,
   "id": "9d03005d",
   "metadata": {},
   "outputs": [
    {
     "data": {
      "text/plain": [
       "True"
      ]
     },
     "execution_count": 27,
     "metadata": {},
     "output_type": "execute_result"
    }
   ],
   "source": [
    "mask_img = (mask.repeat(1,320,1,1).squeeze() * 255).byte().cpu().numpy()\n",
    "cv2.imwrite('images/knee_mask.png', mask_img)"
   ]
  },
  {
   "cell_type": "code",
   "execution_count": null,
   "id": "8b90ae41",
   "metadata": {},
   "outputs": [],
   "source": []
  }
 ],
 "metadata": {
  "kernelspec": {
   "display_name": "cs7643-fastmri",
   "language": "python",
   "name": "python3"
  },
  "language_info": {
   "codemirror_mode": {
    "name": "ipython",
    "version": 3
   },
   "file_extension": ".py",
   "mimetype": "text/x-python",
   "name": "python",
   "nbconvert_exporter": "python",
   "pygments_lexer": "ipython3",
   "version": "3.10.17"
  }
 },
 "nbformat": 4,
 "nbformat_minor": 5
}
