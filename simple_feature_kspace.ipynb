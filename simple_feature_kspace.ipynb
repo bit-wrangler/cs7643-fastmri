{
 "cells": [
  {
   "cell_type": "code",
   "execution_count": 1,
   "id": "e138e115",
   "metadata": {},
   "outputs": [],
   "source": [
    "import numpy as np\n",
    "import fastmri\n",
    "import fastmri.data.transforms as T\n",
    "import matplotlib.pyplot as plt"
   ]
  },
  {
   "cell_type": "code",
   "execution_count": 29,
   "id": "1dc20b3d",
   "metadata": {},
   "outputs": [],
   "source": [
    "def make_square_kspace(W: int, w: int, x: int, y: int):\n",
    "    \"\"\"\n",
    "    Returns:\n",
    "        img  : (1, W, W) float32 spatial image (0–1)\n",
    "        kspc : (2, W, W) float32 k-space (real, imag)\n",
    "    \"\"\"\n",
    "    if not (0 <= x <= W-w and 0 <= y <= W-w and w >= 3):\n",
    "        raise ValueError(\"Square out of bounds or too small (w >= 3).\")\n",
    "\n",
    "    img = np.zeros((W, W), dtype=np.float32)\n",
    "\n",
    "    # interior fill\n",
    "    img[y+1:y+w-1, x+1:x+w-1] = 0.5\n",
    "    # outline\n",
    "\n",
    "    # 2-px diagonal lines (set back to 0.0)\n",
    "    for k in range(w-2):\n",
    "        # main diagonal\n",
    "        r, c = y+1+k, x+1+k\n",
    "        img[r-1:r+1, c-1:c+1] = 0.0\n",
    "        # anti-diagonal\n",
    "        r2, c2 = y+1+k, x+w-2-k\n",
    "        img[r2-1:r2+1, c2-1:c2+1] = 0.0\n",
    "    img[y:y+w, x]   = 1.0\n",
    "    img[y:y+w, x+w-1] = 1.0\n",
    "    img[y,   x:x+w] = 1.0\n",
    "    img[y+w-1, x:x+w] = 1.0\n",
    "\n",
    "    img = img[np.newaxis, ...]                    # (1, W, W)\n",
    "\n",
    "    # forward FFT → k-space, split real/imag\n",
    "    k = np.fft.fftshift(np.fft.fft2(img[0])).astype(np.complex64)\n",
    "    kspc = np.stack((k.real, k.imag)).astype(np.float32)  # (2, W, W)\n",
    "\n",
    "    return img, kspc\n",
    "\n",
    "def make_circle_plus_kspace(W: int, w: int, x: int, y: int):\n",
    "    \"\"\"\n",
    "    Create a (1,W,W) image with a circle and black “+” cross, plus its (2,W,W) k-space.\n",
    "    \"\"\"\n",
    "    if not (0 <= x <= W - w and 0 <= y <= W - w and w >= 3):\n",
    "        raise ValueError(\"Circle out of bounds or too small (w ≥ 3).\")\n",
    "\n",
    "    img = np.zeros((W, W), dtype=np.float32)\n",
    "\n",
    "    # circle geometry\n",
    "    r  = (w - 1) / 2.0\n",
    "    cx = x + r\n",
    "    cy = y + r\n",
    "\n",
    "    Y, X = np.ogrid[:W, :W]\n",
    "    dist2   = (Y - cy) ** 2 + (X - cx) ** 2\n",
    "    inside  = dist2 < (r - 1) ** 2                  # interior (exclude outline)\n",
    "    outline = np.abs(np.sqrt(dist2) - r) < 0.5      # ≈1-px ring\n",
    "\n",
    "    img[inside]  = 0.5\n",
    "    img[outline] = 1.0\n",
    "\n",
    "    # 2-px “+” cross (horizontal & vertical) inside the circle\n",
    "    horiz = np.abs(Y - cy) <= 1\n",
    "    vert  = np.abs(X - cx) <= 1\n",
    "    cross_mask = inside & (horiz | vert)\n",
    "    img[cross_mask] = 0.0\n",
    "\n",
    "    img = img[np.newaxis]                           # (1, W, W)\n",
    "\n",
    "    k = np.fft.fftshift(np.fft.fft2(img[0])).astype(np.complex64)\n",
    "    kspc = np.stack((k.real, k.imag)).astype(np.float32)  # (2, W, W)\n",
    "\n",
    "    return img, kspc"
   ]
  },
  {
   "cell_type": "code",
   "execution_count": 33,
   "id": "3a6a5cc9",
   "metadata": {},
   "outputs": [
    {
     "data": {
      "image/png": "[encoded data removed]",
      "text/plain": [
       "<Figure size 90x90 with 1 Axes>"
      ]
     },
     "metadata": {},
     "output_type": "display_data"
    },
    {
     "data": {
      "image/png": "[encoded data removed]",
      "text/plain": [
       "<Figure size 90x90 with 1 Axes>"
      ]
     },
     "metadata": {},
     "output_type": "display_data"
    },
    {
     "data": {
      "image/png": "[encoded data removed]",
      "text/plain": [
       "<Figure size 90x90 with 1 Axes>"
      ]
     },
     "metadata": {},
     "output_type": "display_data"
    },
    {
     "data": {
      "image/png": "[encoded data removed]",
      "text/plain": [
       "<Figure size 90x90 with 1 Axes>"
      ]
     },
     "metadata": {},
     "output_type": "display_data"
    },
    {
     "data": {
      "image/png": "[encoded data removed]",
      "text/plain": [
       "<Figure size 90x90 with 1 Axes>"
      ]
     },
     "metadata": {},
     "output_type": "display_data"
    },
    {
     "data": {
      "image/png": "[encoded data removed]",
      "text/plain": [
       "<Figure size 90x90 with 1 Axes>"
      ]
     },
     "metadata": {},
     "output_type": "display_data"
    }
   ],
   "source": [
    "img, kspace = make_square_kspace(100, 10, 20, 40)\n",
    "\n",
    "# convert kspace to tensor\n",
    "kspace = T.to_tensor(kspace)\n",
    "kspace.shape\n",
    "\n",
    "kspace_abs = fastmri.complex_abs(kspace.permute(1, 2, 0))\n",
    "\n",
    "img2, kspace2 = make_circle_plus_kspace(100, 10, 60, 10)\n",
    "\n",
    "kspace2 = T.to_tensor(kspace2)\n",
    "kspace2_abs = fastmri.complex_abs(kspace2.permute(1, 2, 0))\n",
    "\n",
    "img3 = img + img2\n",
    "# k3 = np.fft.fftshift(np.fft.fft2(img3[0])).astype(np.complex64)\n",
    "# kspace3 = np.stack((k3.real, k3.imag)).astype(np.float32)  # (2, W, W)\n",
    "# kspace3 = T.to_tensor(kspace3)\n",
    "kspace3 = kspace + kspace2\n",
    "kspace3_abs = fastmri.complex_abs(kspace3.permute(1, 2, 0))\n",
    "\n",
    "figsize = (1.5*12/20, 1.5*12/20)\n",
    "\n",
    "plt.figure(figsize=figsize)\n",
    "plt.gca().set_axis_off()\n",
    "plt.imshow(img[0], cmap='gray')\n",
    "plt.savefig('images/img1.png', bbox_inches='tight', dpi=300)\n",
    "plt.show()\n",
    "\n",
    "plt.figure(figsize=figsize)\n",
    "plt.gca().set_axis_off()\n",
    "plt.imshow(kspace_abs, cmap='hot')\n",
    "plt.savefig('images/kspace1.png', bbox_inches='tight', dpi=300)\n",
    "plt.show()\n",
    "\n",
    "plt.figure(figsize=figsize)\n",
    "plt.gca().set_axis_off()\n",
    "plt.imshow(img2[0], cmap='gray')\n",
    "plt.savefig('images/img2.png', bbox_inches='tight', dpi=300)\n",
    "plt.show()\n",
    "\n",
    "plt.figure(figsize=figsize)\n",
    "plt.gca().set_axis_off()\n",
    "plt.imshow(kspace2_abs, cmap='hot')\n",
    "plt.savefig('images/kspace2.png', bbox_inches='tight', dpi=300)\n",
    "plt.show()\n",
    "\n",
    "plt.figure(figsize=figsize)\n",
    "plt.gca().set_axis_off()\n",
    "plt.imshow(img3[0], cmap='gray')\n",
    "plt.savefig('images/img3.png', bbox_inches='tight', dpi=300)\n",
    "plt.show()\n",
    "\n",
    "plt.figure(figsize=figsize)\n",
    "plt.gca().set_axis_off()\n",
    "plt.imshow(kspace3_abs, cmap='hot')\n",
    "plt.savefig('images/kspace3.png', bbox_inches='tight', dpi=300)\n",
    "plt.show()\n"
   ]
  },
  {
   "cell_type": "code",
   "execution_count": null,
   "id": "925be29a",
   "metadata": {},
   "outputs": [],
   "source": []
  }
 ],
 "metadata": {
  "kernelspec": {
   "display_name": "cs7643-fastmri",
   "language": "python",
   "name": "python3"
  },
  "language_info": {
   "codemirror_mode": {
    "name": "ipython",
    "version": 3
   },
   "file_extension": ".py",
   "mimetype": "text/x-python",
   "name": "python",
   "nbconvert_exporter": "python",
   "pygments_lexer": "ipython3",
   "version": "3.10.17"
  }
 },
 "nbformat": 4,
 "nbformat_minor": 5
}
